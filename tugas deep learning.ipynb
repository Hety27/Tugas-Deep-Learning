{
 "cells": [
  {
   "cell_type": "markdown",
   "metadata": {},
   "source": [
    "# Installasi Python\n",
    "\n",
    "Pertama, buka python yang sudah di download, lalu klik Install, jika sudah akan menampilkan Install Python 3.6.2 (Python versi 3.6.2), ceklis Add Python 3.6 to PATH agar bisa diakses dimanapun. Tunggu Proses installasi hingga sukses.\n",
    "\n",
    "Kedua, Setelah instalasi selesai, ketikkan di cmd “python –version” dan “pip –version” untuk memastikan instalasi Python dan PIP berhasil, serta mengetahui versi yang di instal.\n",
    "\n",
    "\n",
    "# Kata Kunci dan Pengenal (Identifier)\n",
    "### Kata Kunci Python\n",
    "\tKata kunci adalah kata-kata yang sudah ditetapkan dan dipakai Python untuk mendefinisikan sintaks dan struktur bahasa python sendiri. Kata kunci tidak bisa digunakan sebagai nama variabel, fungsi, maupun nama untuk pengenal lainnya.\n",
    "Keyword bersifat case sensitive. Artinya huruf besar berbeda dengan huruf kecil. Sejauh ini, ada 33 kata kunci di Python.\n",
    "\n",
    "### Pengenal (Identifier) Python\n",
    "\tPengenal adalah nama yang diberikan untuk menamai hal di python seperti variabel, fungsi, kelas, dan lain sebagainya. Fungsinya adalah untuk membedakan antara satu entitas dengan yang lainnya.\n",
    "\n",
    "### Aturan Penulisan Pengenal\n",
    "    Pengenal bisa terdiri dari kombinasi huruf kecil (a-z) atau huruf besar (A-Z), angka ( 0-9 ), dan underscore ( _ ). namaKaryawan, bilangan_2, dan jenis_kenderaan_umum adalah nama variabel yang valid.\n",
    "Pengenal tidak bisa dimulai menggunakan angka. 1nama adalah invalid sedangkan nama1 adalah valid.\n",
    "Kata kunci tidak bisa dipakai sebagai nama pengenal.\n",
    "Karakter spesial seperti !, @, %, $, dan sebagainya tidak bisa digunakan sebagai pengenal.\n",
    "Python bersifat case sensitive. Huruf besar dan kecil dianggap berbeda. Jadi Variabel, variabel, dan VARIABEL, adalah 3 buah nama yang berbeda.\n",
    "\n",
    "\n",
    "# Variabel dan Tipe Data Python\n",
    "### Variabel\n",
    "\tVariabel adalah lokasi di memori yang digunakan untuk menyimpan nilai. Pada saat kita membuat sebuah variabel, kita ‘memesan’ tempat di dalam memori. Tempat tersebut bisa diisi dengan data atau objek, baik itu bilangan bulat (integer), pecahan (float), karakter (string), dan lain – lain.\n",
    "\n",
    "### Memberi Nilai Variabel\n",
    "\tDi python, variabel tidak perlu dideklarasikan secara eksplisit. Deklarasi atau pembuatan variabel terjadi secara otomatis pada saat kita memberi (menugaskan) suatu nilai ke variabel. Tanda sama dengan ( = ) digunakan untuk memberikan nilai ke variabel.\n",
    "\tOperand di sebelah kiri tanda = adalah nama variabel dan di sebelah kanan tanda = adalah nilai yang disimpan di dalam variabel. Sebagai contoh:\n"
   ]
  },
  {
   "cell_type": "code",
   "execution_count": 30,
   "metadata": {
    "scrolled": true
   },
   "outputs": [
    {
     "name": "stdout",
     "output_type": "stream",
     "text": [
      "100\n"
     ]
    }
   ],
   "source": [
    "##Tipe data integer\n",
    "panjang = 100\n",
    "print (panjang)"
   ]
  },
  {
   "cell_type": "code",
   "execution_count": 31,
   "metadata": {},
   "outputs": [
    {
     "name": "stdout",
     "output_type": "stream",
     "text": [
      "21.5\n"
     ]
    }
   ],
   "source": [
    "##Tipe data float\n",
    "lebar = 21.5\n",
    "print(lebar)"
   ]
  },
  {
   "cell_type": "code",
   "execution_count": 32,
   "metadata": {},
   "outputs": [
    {
     "name": "stdout",
     "output_type": "stream",
     "text": [
      "Hety\n"
     ]
    }
   ],
   "source": [
    "##Tipe data string\n",
    "nama = \"Hety\"\n",
    "print(nama)"
   ]
  },
  {
   "cell_type": "code",
   "execution_count": 33,
   "metadata": {},
   "outputs": [
    {
     "name": "stdout",
     "output_type": "stream",
     "text": [
      "a[5] =  30\n"
     ]
    }
   ],
   "source": [
    "##List\n",
    "\n",
    "a = [5,10,15,20,25,30,35,40]\n",
    "print(\"a[5] = \", a[5])"
   ]
  },
  {
   "cell_type": "code",
   "execution_count": 34,
   "metadata": {},
   "outputs": [
    {
     "name": "stdout",
     "output_type": "stream",
     "text": [
      "a[0:3] =  [5, 10, 15]\n"
     ]
    }
   ],
   "source": [
    "a = [5,10,15,20,25,30,35,40]\n",
    "print(\"a[0:3] = \", a[0:3])"
   ]
  },
  {
   "cell_type": "code",
   "execution_count": 45,
   "metadata": {},
   "outputs": [
    {
     "name": "stdout",
     "output_type": "stream",
     "text": [
      "(255, 255, 255)\n"
     ]
    }
   ],
   "source": [
    "#Tuple\n",
    "\n",
    "white = (255, 255, 255)\n",
    "print(white)"
   ]
  },
  {
   "cell_type": "code",
   "execution_count": 46,
   "metadata": {},
   "outputs": [
    {
     "name": "stdout",
     "output_type": "stream",
     "text": [
      "d[2] =  dua\n"
     ]
    }
   ],
   "source": [
    "#Dictionary\n",
    "\n",
    "\n",
    "d = {1:'satu', 2:'dua', 'tiga':3}\n",
    "print(\"d[2] = \", d[2])"
   ]
  },
  {
   "attachments": {},
   "cell_type": "markdown",
   "metadata": {},
   "source": [
    "# Operator Python\n",
    "\n",
    "    Operator adalah simbol tertentu yang digunakan untuk melakukan operasi aritmatika maupun logika. Nilai yang padanya dilakukan operasi disebut operand. Misalnya adalah  2 + 3. Di sini tanda + adalah operator penjumlahan. 2 dan 3 adalah operand.\n",
    "\n",
    "Python memiliki sejumlah operator, yaitu:\n",
    "\n",
    "Operator Aritmatika\n",
    "Operator Perbandingan\n",
    "Operator Penugasan\n",
    "Operator Logika\n",
    "Operator Bitwise\n",
    "Operator Identitas\n",
    "Operator Keanggotaan"
   ]
  },
  {
   "cell_type": "code",
   "execution_count": 38,
   "metadata": {},
   "outputs": [
    {
     "name": "stdout",
     "output_type": "stream",
     "text": [
      "4\n"
     ]
    }
   ],
   "source": [
    "#Penjumlahan\n",
    "\n",
    "a=(1+3)\n",
    "print(a)"
   ]
  },
  {
   "cell_type": "code",
   "execution_count": 39,
   "metadata": {},
   "outputs": [
    {
     "name": "stdout",
     "output_type": "stream",
     "text": [
      "3\n"
     ]
    }
   ],
   "source": [
    "#Pengurangan\n",
    "\n",
    "a=(5-2)\n",
    "print(a)"
   ]
  },
  {
   "cell_type": "code",
   "execution_count": 40,
   "metadata": {},
   "outputs": [
    {
     "name": "stdout",
     "output_type": "stream",
     "text": [
      "10\n"
     ]
    }
   ],
   "source": [
    "#Perkalian\n",
    "\n",
    "a=(2*5)\n",
    "print(a)"
   ]
  },
  {
   "cell_type": "code",
   "execution_count": 41,
   "metadata": {},
   "outputs": [
    {
     "name": "stdout",
     "output_type": "stream",
     "text": [
      "5.0\n"
     ]
    }
   ],
   "source": [
    "#Pembagian\n",
    "\n",
    "a=(10/2)\n",
    "print(a)"
   ]
  },
  {
   "cell_type": "code",
   "execution_count": 42,
   "metadata": {},
   "outputs": [
    {
     "name": "stdout",
     "output_type": "stream",
     "text": [
      "1\n"
     ]
    }
   ],
   "source": [
    "#Mod\n",
    "\n",
    "a=(15%2)\n",
    "print(a)"
   ]
  },
  {
   "cell_type": "code",
   "execution_count": 43,
   "metadata": {},
   "outputs": [
    {
     "name": "stdout",
     "output_type": "stream",
     "text": [
      "25\n"
     ]
    }
   ],
   "source": [
    "#Pemangkatan\n",
    "\n",
    "a=(5**2)\n",
    "print(a)"
   ]
  },
  {
   "cell_type": "code",
   "execution_count": 44,
   "metadata": {},
   "outputs": [
    {
     "name": "stdout",
     "output_type": "stream",
     "text": [
      "2\n"
     ]
    }
   ],
   "source": [
    "#Pembagian Bulat\n",
    "\n",
    "a=(10//4)\n",
    "print(a)"
   ]
  },
  {
   "cell_type": "code",
   "execution_count": null,
   "metadata": {},
   "outputs": [],
   "source": []
  },
  {
   "cell_type": "code",
   "execution_count": null,
   "metadata": {},
   "outputs": [],
   "source": []
  }
 ],
 "metadata": {
  "kernelspec": {
   "display_name": "Python 3",
   "language": "python",
   "name": "python3"
  },
  "language_info": {
   "codemirror_mode": {
    "name": "ipython",
    "version": 3
   },
   "file_extension": ".py",
   "mimetype": "text/x-python",
   "name": "python",
   "nbconvert_exporter": "python",
   "pygments_lexer": "ipython3",
   "version": "3.6.2"
  }
 },
 "nbformat": 4,
 "nbformat_minor": 2
}
